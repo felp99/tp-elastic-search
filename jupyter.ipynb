{
 "cells": [
  {
   "cell_type": "markdown",
   "metadata": {},
   "source": [
    "### Connect to Elasticsearch"
   ]
  },
  {
   "cell_type": "code",
   "execution_count": 17,
   "metadata": {},
   "outputs": [
    {
     "name": "stdout",
     "output_type": "stream",
     "text": [
      "True\n"
     ]
    }
   ],
   "source": [
    "from elasticsearch import Elasticsearch\n",
    "\n",
    "es = Elasticsearch(\"http://localhost:9200\")\n",
    "\n",
    "print(es.ping())"
   ]
  },
  {
   "cell_type": "markdown",
   "metadata": {},
   "source": [
    "### Create an Index\n",
    "\n",
    "#### What is an Index in Elasticsearch?\n",
    "An index in Elasticsearch is similar to a database in a relational database system. It is a collection of documents that share similar characteristics. Each document is stored as a JSON object and has a unique identifier."
   ]
  },
  {
   "cell_type": "code",
   "execution_count": 21,
   "metadata": {},
   "outputs": [
    {
     "name": "stdout",
     "output_type": "stream",
     "text": [
      "Index 'test_index' already exists.\n"
     ]
    }
   ],
   "source": [
    "index_name = \"test_index\"\n",
    "\n",
    "if not es.indices.exists(index=index_name):\n",
    "    es.indices.create(index=index_name)\n",
    "    print(f\"Index '{index_name}' created.\")\n",
    "else:\n",
    "    print(f\"Index '{index_name}' already exists.\")"
   ]
  },
  {
   "cell_type": "code",
   "execution_count": 22,
   "metadata": {},
   "outputs": [
    {
     "name": "stdout",
     "output_type": "stream",
     "text": [
      "{'_index': 'test_index', '_id': '1', '_version': 2, 'result': 'updated', '_shards': {'total': 2, 'successful': 1, 'failed': 0}, '_seq_no': 12, '_primary_term': 3}\n"
     ]
    }
   ],
   "source": [
    "doc = {\n",
    "    \"name\": \"John Doe\",\n",
    "    \"age\": 30,\n",
    "    \"occupation\": \"Software Engineer\",\n",
    "    \"location\": \"San Francisco\"\n",
    "}\n",
    "\n",
    "res = es.index(index=index_name, id=1, document=doc)\n",
    "print(res)"
   ]
  },
  {
   "cell_type": "code",
   "execution_count": 23,
   "metadata": {},
   "outputs": [
    {
     "name": "stdout",
     "output_type": "stream",
     "text": [
      "{'took': 73, 'timed_out': False, '_shards': {'total': 1, 'successful': 1, 'skipped': 0, 'failed': 0}, 'hits': {'total': {'value': 1, 'relation': 'eq'}, 'max_score': 2.858674, 'hits': [{'_index': 'test_index', '_id': '1', '_score': 2.858674, '_source': {'name': 'John Doe', 'age': 30, 'occupation': 'Software Engineer', 'location': 'San Francisco'}}]}}\n"
     ]
    }
   ],
   "source": [
    "query = {\n",
    "    \"query\": {\n",
    "        \"match\": {\n",
    "            \"occupation\": \"Software Engineer\"\n",
    "        }\n",
    "    }\n",
    "}\n",
    "\n",
    "res = es.search(index=index_name, body=query)\n",
    "print(res)\n"
   ]
  },
  {
   "cell_type": "code",
   "execution_count": 24,
   "metadata": {},
   "outputs": [
    {
     "data": {
      "text/plain": [
       "ObjectApiResponse({'_index': 'test_index', '_id': '1', '_version': 3, 'result': 'updated', '_shards': {'total': 2, 'successful': 1, 'failed': 0}, '_seq_no': 13, '_primary_term': 3})"
      ]
     },
     "execution_count": 24,
     "metadata": {},
     "output_type": "execute_result"
    }
   ],
   "source": [
    "update_query = {\n",
    "    \"doc\": {\n",
    "        \"age\": 31\n",
    "    }\n",
    "}\n",
    "\n",
    "es.update(index=index_name, id=1, body=update_query)"
   ]
  },
  {
   "cell_type": "code",
   "execution_count": 25,
   "metadata": {},
   "outputs": [
    {
     "data": {
      "text/plain": [
       "ObjectApiResponse({'_index': 'test_index', '_id': '1', '_version': 4, 'result': 'deleted', '_shards': {'total': 2, 'successful': 1, 'failed': 0}, '_seq_no': 14, '_primary_term': 3})"
      ]
     },
     "execution_count": 25,
     "metadata": {},
     "output_type": "execute_result"
    }
   ],
   "source": [
    "es.delete(index=index_name, id=1)\n"
   ]
  },
  {
   "cell_type": "code",
   "execution_count": 26,
   "metadata": {},
   "outputs": [
    {
     "name": "stdout",
     "output_type": "stream",
     "text": [
      "{'took': 7, 'timed_out': False, '_shards': {'total': 1, 'successful': 1, 'skipped': 0, 'failed': 0}, 'hits': {'total': {'value': 9, 'relation': 'eq'}, 'max_score': None, 'hits': []}, 'aggregations': {'average_age': {'value': 30.444444444444443}}}\n"
     ]
    }
   ],
   "source": [
    "aggregation_query = {\n",
    "    \"size\": 0,\n",
    "    \"aggs\": {\n",
    "        \"average_age\": {\n",
    "            \"avg\": {\n",
    "                \"field\": \"age\"\n",
    "            }\n",
    "        }\n",
    "    }\n",
    "}\n",
    "\n",
    "res = es.search(index=index_name, body=aggregation_query)\n",
    "print(res)"
   ]
  },
  {
   "cell_type": "code",
   "execution_count": 27,
   "metadata": {},
   "outputs": [
    {
     "data": {
      "text/plain": [
       "(8, [])"
      ]
     },
     "execution_count": 27,
     "metadata": {},
     "output_type": "execute_result"
    }
   ],
   "source": [
    "from elasticsearch.helpers import bulk\n",
    "\n",
    "# Bulk inserting multiple documents\n",
    "actions = [\n",
    "    {\"_index\": index_name, \"_id\": i, \"_source\": {\"name\": f\"User {i}\", \"age\": 25 + i, \"occupation\": \"Developer\"}}\n",
    "    for i in range(2, 10)\n",
    "]\n",
    "\n",
    "bulk(es, actions)\n"
   ]
  },
  {
   "cell_type": "markdown",
   "metadata": {},
   "source": [
    "### What is a Shard in Elasticsearch?\n",
    "A shard is a subdivision of an index. Each index is split into multiple shards for better performance and fault tolerance.\n",
    "\n",
    "Primary Shards: Store the actual data.\n",
    "Replica Shards: Backup copies of primary shards for redundancy.\n",
    "Each shard is an independent Lucene index that can be stored on a different node in a cluster.\n",
    "\n",
    "Example: How Shards Improve Performance\n",
    "Imagine we have 1 million documents in an index. Instead of storing all of them in a single server, we can distribute them across multiple shards, which can then be placed on different servers (nodes).\n",
    "\n",
    "Creating an Index with Shards and Replicas"
   ]
  },
  {
   "cell_type": "code",
   "execution_count": 5,
   "metadata": {},
   "outputs": [
    {
     "name": "stdout",
     "output_type": "stream",
     "text": [
      "Deleted existing index: sharded_index\n",
      "Created index: sharded_index\n"
     ]
    }
   ],
   "source": [
    "sharded_mapping = {\n",
    "    \"settings\": {\n",
    "        \"number_of_shards\": 3,  # Multiple shards for parallel processing\n",
    "        \"number_of_replicas\": 1\n",
    "    },\n",
    "}\n",
    "\n",
    "if es.indices.exists(index='sharded_index'):\n",
    "    es.indices.delete(index='sharded_index')  # Delete existing index to avoid conflicts\n",
    "    print(f\"Deleted existing index: sharded_index\")\n",
    "\n",
    "es.indices.create(index='sharded_index', body=sharded_mapping)\n",
    "print(f\"Created index: sharded_index\")\n"
   ]
  },
  {
   "cell_type": "markdown",
   "metadata": {},
   "source": [
    "Creating an Index with no Shards or Replicas"
   ]
  },
  {
   "cell_type": "code",
   "execution_count": null,
   "metadata": {},
   "outputs": [
    {
     "name": "stdout",
     "output_type": "stream",
     "text": [
      "Deleted existing index: unsharded_index\n",
      "Created index: unsharded_index\n"
     ]
    }
   ],
   "source": [
    "unsharded_mapping = {\n",
    "    \"settings\": {\n",
    "        \"number_of_shards\": 1,  # Multiple shards for parallel processing\n",
    "        \"number_of_replicas\": 1\n",
    "    },\n",
    "}\n",
    "\n",
    "if es.indices.exists(index='unsharded_index'):\n",
    "    es.indices.delete(index='unsharded_index')  # Delete existing index to avoid conflicts\n",
    "    print(f\"Deleted existing index: unsharded_index\")\n",
    "\n",
    "es.indices.create(index='unsharded_index', body=unsharded_mapping)\n",
    "print(f\"Created index: unsharded_index\")\n"
   ]
  },
  {
   "cell_type": "code",
   "execution_count": null,
   "metadata": {},
   "outputs": [
    {
     "name": "stderr",
     "output_type": "stream",
     "text": [
      "/tmp/ipykernel_65799/3537775731.py:5: FutureWarning: Setting an item of incompatible dtype is deprecated and will raise an error in a future version of pandas. Value '' has dtype incompatible with float64, please explicitly cast to a compatible dtype first.\n",
      "  df.fillna(\"\", inplace=True)\n"
     ]
    },
    {
     "ename": "BulkIndexError",
     "evalue": "1 document(s) failed to index.",
     "output_type": "error",
     "traceback": [
      "\u001b[0;31m---------------------------------------------------------------------------\u001b[0m",
      "\u001b[0;31mBulkIndexError\u001b[0m                            Traceback (most recent call last)",
      "Cell \u001b[0;32mIn[51], line 26\u001b[0m\n\u001b[1;32m     16\u001b[0m actions_sharded_index \u001b[38;5;241m=\u001b[39m [\n\u001b[1;32m     17\u001b[0m     {\n\u001b[1;32m     18\u001b[0m         \u001b[38;5;124m\"\u001b[39m\u001b[38;5;124m_index\u001b[39m\u001b[38;5;124m\"\u001b[39m: \u001b[38;5;124m'\u001b[39m\u001b[38;5;124msharded_index\u001b[39m\u001b[38;5;124m'\u001b[39m,\n\u001b[0;32m   (...)\u001b[0m\n\u001b[1;32m     22\u001b[0m     \u001b[38;5;28;01mfor\u001b[39;00m _, row \u001b[38;5;129;01min\u001b[39;00m df\u001b[38;5;241m.\u001b[39miterrows()\n\u001b[1;32m     23\u001b[0m ]\n\u001b[1;32m     25\u001b[0m success, failed \u001b[38;5;241m=\u001b[39m bulk(es, actions_unsharded_index)\n\u001b[0;32m---> 26\u001b[0m success, failed \u001b[38;5;241m=\u001b[39m \u001b[43mbulk\u001b[49m\u001b[43m(\u001b[49m\u001b[43mes\u001b[49m\u001b[43m,\u001b[49m\u001b[43m \u001b[49m\u001b[43mactions_sharded_index\u001b[49m\u001b[43m)\u001b[49m\n",
      "File \u001b[0;32m~/git/tp-elastic-search/venv/lib/python3.12/site-packages/elasticsearch/helpers/actions.py:540\u001b[0m, in \u001b[0;36mbulk\u001b[0;34m(client, actions, stats_only, ignore_status, *args, **kwargs)\u001b[0m\n\u001b[1;32m    538\u001b[0m \u001b[38;5;66;03m# make streaming_bulk yield successful results so we can count them\u001b[39;00m\n\u001b[1;32m    539\u001b[0m kwargs[\u001b[38;5;124m\"\u001b[39m\u001b[38;5;124myield_ok\u001b[39m\u001b[38;5;124m\"\u001b[39m] \u001b[38;5;241m=\u001b[39m \u001b[38;5;28;01mTrue\u001b[39;00m\n\u001b[0;32m--> 540\u001b[0m \u001b[43m\u001b[49m\u001b[38;5;28;43;01mfor\u001b[39;49;00m\u001b[43m \u001b[49m\u001b[43mok\u001b[49m\u001b[43m,\u001b[49m\u001b[43m \u001b[49m\u001b[43mitem\u001b[49m\u001b[43m \u001b[49m\u001b[38;5;129;43;01min\u001b[39;49;00m\u001b[43m \u001b[49m\u001b[43mstreaming_bulk\u001b[49m\u001b[43m(\u001b[49m\n\u001b[1;32m    541\u001b[0m \u001b[43m    \u001b[49m\u001b[43mclient\u001b[49m\u001b[43m,\u001b[49m\u001b[43m \u001b[49m\u001b[43mactions\u001b[49m\u001b[43m,\u001b[49m\u001b[43m \u001b[49m\u001b[43mignore_status\u001b[49m\u001b[38;5;241;43m=\u001b[39;49m\u001b[43mignore_status\u001b[49m\u001b[43m,\u001b[49m\u001b[43m \u001b[49m\u001b[43mspan_name\u001b[49m\u001b[38;5;241;43m=\u001b[39;49m\u001b[38;5;124;43m\"\u001b[39;49m\u001b[38;5;124;43mhelpers.bulk\u001b[39;49m\u001b[38;5;124;43m\"\u001b[39;49m\u001b[43m,\u001b[49m\u001b[43m \u001b[49m\u001b[38;5;241;43m*\u001b[39;49m\u001b[43margs\u001b[49m\u001b[43m,\u001b[49m\u001b[43m \u001b[49m\u001b[38;5;241;43m*\u001b[39;49m\u001b[38;5;241;43m*\u001b[39;49m\u001b[43mkwargs\u001b[49m\u001b[43m  \u001b[49m\u001b[38;5;66;43;03m# type: ignore[misc]\u001b[39;49;00m\n\u001b[1;32m    542\u001b[0m \u001b[43m\u001b[49m\u001b[43m)\u001b[49m\u001b[43m:\u001b[49m\n\u001b[1;32m    543\u001b[0m \u001b[43m    \u001b[49m\u001b[38;5;66;43;03m# go through request-response pairs and detect failures\u001b[39;49;00m\n\u001b[1;32m    544\u001b[0m \u001b[43m    \u001b[49m\u001b[38;5;28;43;01mif\u001b[39;49;00m\u001b[43m \u001b[49m\u001b[38;5;129;43;01mnot\u001b[39;49;00m\u001b[43m \u001b[49m\u001b[43mok\u001b[49m\u001b[43m:\u001b[49m\n\u001b[1;32m    545\u001b[0m \u001b[43m        \u001b[49m\u001b[38;5;28;43;01mif\u001b[39;49;00m\u001b[43m \u001b[49m\u001b[38;5;129;43;01mnot\u001b[39;49;00m\u001b[43m \u001b[49m\u001b[43mstats_only\u001b[49m\u001b[43m:\u001b[49m\n",
      "File \u001b[0;32m~/git/tp-elastic-search/venv/lib/python3.12/site-packages/elasticsearch/helpers/actions.py:453\u001b[0m, in \u001b[0;36mstreaming_bulk\u001b[0;34m(client, actions, chunk_size, max_chunk_bytes, raise_on_error, expand_action_callback, raise_on_exception, max_retries, initial_backoff, max_backoff, yield_ok, ignore_status, retry_on_status, span_name, *args, **kwargs)\u001b[0m\n\u001b[1;32m    450\u001b[0m     time\u001b[38;5;241m.\u001b[39msleep(\u001b[38;5;28mmin\u001b[39m(max_backoff, initial_backoff \u001b[38;5;241m*\u001b[39m \u001b[38;5;241m2\u001b[39m \u001b[38;5;241m*\u001b[39m\u001b[38;5;241m*\u001b[39m (attempt \u001b[38;5;241m-\u001b[39m \u001b[38;5;241m1\u001b[39m)))\n\u001b[1;32m    452\u001b[0m \u001b[38;5;28;01mtry\u001b[39;00m:\n\u001b[0;32m--> 453\u001b[0m \u001b[43m    \u001b[49m\u001b[38;5;28;43;01mfor\u001b[39;49;00m\u001b[43m \u001b[49m\u001b[43mdata\u001b[49m\u001b[43m,\u001b[49m\u001b[43m \u001b[49m\u001b[43m(\u001b[49m\u001b[43mok\u001b[49m\u001b[43m,\u001b[49m\u001b[43m \u001b[49m\u001b[43minfo\u001b[49m\u001b[43m)\u001b[49m\u001b[43m \u001b[49m\u001b[38;5;129;43;01min\u001b[39;49;00m\u001b[43m \u001b[49m\u001b[38;5;28;43mzip\u001b[39;49m\u001b[43m(\u001b[49m\n\u001b[1;32m    454\u001b[0m \u001b[43m        \u001b[49m\u001b[43mbulk_data\u001b[49m\u001b[43m,\u001b[49m\n\u001b[1;32m    455\u001b[0m \u001b[43m        \u001b[49m\u001b[43m_process_bulk_chunk\u001b[49m\u001b[43m(\u001b[49m\n\u001b[1;32m    456\u001b[0m \u001b[43m            \u001b[49m\u001b[43mclient\u001b[49m\u001b[43m,\u001b[49m\n\u001b[1;32m    457\u001b[0m \u001b[43m            \u001b[49m\u001b[43mbulk_actions\u001b[49m\u001b[43m,\u001b[49m\n\u001b[1;32m    458\u001b[0m \u001b[43m            \u001b[49m\u001b[43mbulk_data\u001b[49m\u001b[43m,\u001b[49m\n\u001b[1;32m    459\u001b[0m \u001b[43m            \u001b[49m\u001b[43motel_span\u001b[49m\u001b[43m,\u001b[49m\n\u001b[1;32m    460\u001b[0m \u001b[43m            \u001b[49m\u001b[43mraise_on_exception\u001b[49m\u001b[43m,\u001b[49m\n\u001b[1;32m    461\u001b[0m \u001b[43m            \u001b[49m\u001b[43mraise_on_error\u001b[49m\u001b[43m,\u001b[49m\n\u001b[1;32m    462\u001b[0m \u001b[43m            \u001b[49m\u001b[43mignore_status\u001b[49m\u001b[43m,\u001b[49m\n\u001b[1;32m    463\u001b[0m \u001b[43m            \u001b[49m\u001b[38;5;241;43m*\u001b[39;49m\u001b[43margs\u001b[49m\u001b[43m,\u001b[49m\n\u001b[1;32m    464\u001b[0m \u001b[43m            \u001b[49m\u001b[38;5;241;43m*\u001b[39;49m\u001b[38;5;241;43m*\u001b[39;49m\u001b[43mkwargs\u001b[49m\u001b[43m,\u001b[49m\n\u001b[1;32m    465\u001b[0m \u001b[43m        \u001b[49m\u001b[43m)\u001b[49m\u001b[43m,\u001b[49m\n\u001b[1;32m    466\u001b[0m \u001b[43m    \u001b[49m\u001b[43m)\u001b[49m\u001b[43m:\u001b[49m\n\u001b[1;32m    467\u001b[0m \u001b[43m        \u001b[49m\u001b[38;5;28;43;01mif\u001b[39;49;00m\u001b[43m \u001b[49m\u001b[38;5;129;43;01mnot\u001b[39;49;00m\u001b[43m \u001b[49m\u001b[43mok\u001b[49m\u001b[43m:\u001b[49m\n\u001b[1;32m    468\u001b[0m \u001b[43m            \u001b[49m\u001b[43maction\u001b[49m\u001b[43m,\u001b[49m\u001b[43m \u001b[49m\u001b[43minfo\u001b[49m\u001b[43m \u001b[49m\u001b[38;5;241;43m=\u001b[39;49m\u001b[43m \u001b[49m\u001b[43minfo\u001b[49m\u001b[38;5;241;43m.\u001b[39;49m\u001b[43mpopitem\u001b[49m\u001b[43m(\u001b[49m\u001b[43m)\u001b[49m\n",
      "File \u001b[0;32m~/git/tp-elastic-search/venv/lib/python3.12/site-packages/elasticsearch/helpers/actions.py:359\u001b[0m, in \u001b[0;36m_process_bulk_chunk\u001b[0;34m(client, bulk_actions, bulk_data, otel_span, raise_on_exception, raise_on_error, ignore_status, *args, **kwargs)\u001b[0m\n\u001b[1;32m    352\u001b[0m \u001b[38;5;28;01melse\u001b[39;00m:\n\u001b[1;32m    353\u001b[0m     gen \u001b[38;5;241m=\u001b[39m _process_bulk_chunk_success(\n\u001b[1;32m    354\u001b[0m         resp\u001b[38;5;241m=\u001b[39mresp\u001b[38;5;241m.\u001b[39mbody,\n\u001b[1;32m    355\u001b[0m         bulk_data\u001b[38;5;241m=\u001b[39mbulk_data,\n\u001b[1;32m    356\u001b[0m         ignore_status\u001b[38;5;241m=\u001b[39mignore_status,\n\u001b[1;32m    357\u001b[0m         raise_on_error\u001b[38;5;241m=\u001b[39mraise_on_error,\n\u001b[1;32m    358\u001b[0m     )\n\u001b[0;32m--> 359\u001b[0m \u001b[38;5;28;01myield from\u001b[39;00m gen\n",
      "File \u001b[0;32m~/git/tp-elastic-search/venv/lib/python3.12/site-packages/elasticsearch/helpers/actions.py:276\u001b[0m, in \u001b[0;36m_process_bulk_chunk_success\u001b[0;34m(resp, bulk_data, ignore_status, raise_on_error)\u001b[0m\n\u001b[1;32m    273\u001b[0m         \u001b[38;5;28;01myield\u001b[39;00m ok, {op_type: item}\n\u001b[1;32m    275\u001b[0m \u001b[38;5;28;01mif\u001b[39;00m errors:\n\u001b[0;32m--> 276\u001b[0m     \u001b[38;5;28;01mraise\u001b[39;00m BulkIndexError(\u001b[38;5;124mf\u001b[39m\u001b[38;5;124m\"\u001b[39m\u001b[38;5;132;01m{\u001b[39;00m\u001b[38;5;28mlen\u001b[39m(errors)\u001b[38;5;132;01m}\u001b[39;00m\u001b[38;5;124m document(s) failed to index.\u001b[39m\u001b[38;5;124m\"\u001b[39m, errors)\n",
      "\u001b[0;31mBulkIndexError\u001b[0m: 1 document(s) failed to index."
     ]
    }
   ],
   "source": [
    "import pandas as pd\n",
    "from elasticsearch.helpers import bulk\n",
    "\n",
    "df = pd.read_csv(\"crime_data.csv\")\n",
    "df.fillna(\"\", inplace=True)\n",
    "\n",
    "actions_unsharded_index = [\n",
    "    {\n",
    "        \"_index\": 'unsharded_index',\n",
    "        \"_id\": row[\"DR_NO\"],\n",
    "        \"_source\": row.to_dict()\n",
    "    }\n",
    "    for _, row in df.iterrows()\n",
    "]\n",
    "\n",
    "actions_sharded_index = [\n",
    "    {\n",
    "        \"_index\": 'sharded_index',\n",
    "        \"_id\": row[\"DR_NO\"],\n",
    "        \"_source\": row.to_dict()\n",
    "    }\n",
    "    for _, row in df.iterrows()\n",
    "]\n",
    "\n",
    "success, failed = bulk(es, actions_unsharded_index)"
   ]
  },
  {
   "cell_type": "code",
   "execution_count": null,
   "metadata": {},
   "outputs": [],
   "source": [
    "success, failed = bulk(es, actions_sharded_index)"
   ]
  },
  {
   "cell_type": "markdown",
   "metadata": {},
   "source": [
    "### Mapping\n",
    "Mapping is the process of defining how documents and their fields are stored and indexed in Elasticsearch.\n",
    "\n",
    "It defines data types (e.g., text, keyword, date) and specifies how data should be interpreted.\n",
    "\n",
    "Mapping is crucial for accurate search results, performance optimization, and data integrity."
   ]
  },
  {
   "cell_type": "markdown",
   "metadata": {},
   "source": [
    "#### Dynamic Mapping\n",
    "Dynamic mapping allows Elasticsearch to automatically detect and assign data types for new fields.\n",
    "\n",
    "This is useful for rapidly changing or unpredictable data structures.\n",
    "\n",
    "Example :"
   ]
  },
  {
   "cell_type": "code",
   "execution_count": null,
   "metadata": {},
   "outputs": [
    {
     "name": "stdout",
     "output_type": "stream",
     "text": [
      "Dynamic Mapping Result:\n",
      " {'books': {'mappings': {'properties': {'pages': {'type': 'long'}, 'price': {'type': 'float'}, 'published': {'type': 'date'}, 'title': {'type': 'text', 'fields': {'keyword': {'type': 'keyword', 'ignore_above': 256}}}}}}}\n"
     ]
    }
   ],
   "source": [
    "import json\n",
    "doc = {\n",
    "    \"title\": \"Learning Elasticsearch\",\n",
    "    \"pages\": 320,\n",
    "    \"price\": 29.99,\n",
    "    \"published\": \"2024-03-01\"\n",
    "}\n",
    "\n",
    "# Index the document\n",
    "es.index(index='books', id=1, document=doc)\n",
    "\n",
    "# View the generated mapping\n",
    "mapping = es.indices.get_mapping(index='books')\n",
    "\n",
    "# Pretty-print the JSON mapping\n",
    "print(\"Dynamic Mapping Result:\\n\", mapping)"
   ]
  },
  {
   "cell_type": "code",
   "execution_count": 13,
   "metadata": {},
   "outputs": [
    {
     "name": "stdout",
     "output_type": "stream",
     "text": [
      "Dynamic Mapping Result:\n",
      " {'books': {'mappings': {'properties': {'authors': {'type': 'text', 'fields': {'keyword': {'type': 'keyword', 'ignore_above': 256}}}, 'pages': {'type': 'long'}, 'price': {'type': 'float'}, 'published': {'type': 'date'}, 'title': {'type': 'text', 'fields': {'keyword': {'type': 'keyword', 'ignore_above': 256}}}}}}}\n"
     ]
    }
   ],
   "source": [
    "doc2 = {\n",
    "    \"pages\": 320,\n",
    "    \"price\": 29.99,\n",
    "    \"published\": \"2024-03-01\",\n",
    "    \"authors\": [\"John Doe\", \"Alice Smith\"]\n",
    "}\n",
    "\n",
    "# Index the document\n",
    "es.index(index='books', id=2, document=doc2)\n",
    "\n",
    "# View the generated mapping\n",
    "mapping = es.indices.get_mapping(index='books')\n",
    "\n",
    "# Pretty-print the JSON mapping\n",
    "print(\"Dynamic Mapping Result:\\n\", mapping)"
   ]
  },
  {
   "cell_type": "code",
   "execution_count": 15,
   "metadata": {},
   "outputs": [
    {
     "name": "stdout",
     "output_type": "stream",
     "text": [
      "{'books': {'aliases': {}, 'mappings': {'properties': {'authors': {'type': 'text', 'fields': {'keyword': {'type': 'keyword', 'ignore_above': 256}}}, 'pages': {'type': 'long'}, 'price': {'type': 'float'}, 'published': {'type': 'date'}, 'title': {'type': 'text', 'fields': {'keyword': {'type': 'keyword', 'ignore_above': 256}}}}}, 'settings': {'index': {'routing': {'allocation': {'include': {'_tier_preference': 'data_content'}}}, 'number_of_shards': '1', 'provided_name': 'books', 'creation_date': '1741644888280', 'number_of_replicas': '1', 'uuid': 'wYW4AYnATgCUWQryrQ-pwg', 'version': {'created': '8050099'}}}}}\n",
      "{'_index': 'books', '_id': '1', '_version': 6, '_seq_no': 5, '_primary_term': 2, 'found': True, '_source': {'title': 'Learning Elasticsearch', 'pages': 320, 'price': 29.99, 'published': '2024-03-01'}}\n",
      "{'_index': 'books', '_id': '2', '_version': 2, '_seq_no': 7, '_primary_term': 2, 'found': True, '_source': {'pages': 320, 'price': 29.99, 'published': '2024-03-01', 'authors': ['John Doe', 'Alice Smith']}}\n",
      "{'took': 2, 'timed_out': False, '_shards': {'total': 1, 'successful': 1, 'skipped': 0, 'failed': 0}, 'hits': {'total': {'value': 2, 'relation': 'eq'}, 'max_score': 1.0, 'hits': [{'_index': 'books', '_id': '1', '_score': 1.0, '_source': {'title': 'Learning Elasticsearch', 'pages': 320, 'price': 29.99, 'published': '2024-03-01'}}, {'_index': 'books', '_id': '2', '_score': 1.0, '_source': {'pages': 320, 'price': 29.99, 'published': '2024-03-01', 'authors': ['John Doe', 'Alice Smith']}}]}}\n"
     ]
    }
   ],
   "source": [
    "# get full index \n",
    "res = es.indices.get(index='books')\n",
    "print(res)\n",
    "\n",
    "# get content of index\n",
    "res = es.get(index='books', id=1)\n",
    "print(res)\n",
    "\n",
    "resq = es.get(index='books', id=2)\n",
    "print(resq)\n",
    "\n",
    "# get documents of index\n",
    "res = es.search(index='books')\n",
    "print(res)"
   ]
  },
  {
   "cell_type": "markdown",
   "metadata": {},
   "source": [
    "##### Date Detection\n",
    "If date_detection is enabled (default), then new string fields are checked to see whether their contents match any of the date patterns specified in dynamic_date_formats. If a match is found, a new date field is added with the corresponding format.\n",
    "\n",
    "The default value for dynamic_date_formats is:"
   ]
  },
  {
   "cell_type": "code",
   "execution_count": null,
   "metadata": {},
   "outputs": [],
   "source": [
    "[ \"strict_date_optional_time\",\"yyyy/MM/dd HH:mm:ss Z||yyyy/MM/dd Z\"]"
   ]
  },
  {
   "cell_type": "code",
   "execution_count": 20,
   "metadata": {},
   "outputs": [
    {
     "name": "stdout",
     "output_type": "stream",
     "text": [
      "{'_index': 'datedetectionindex', '_id': '1', '_version': 2, 'result': 'updated', '_shards': {'total': 2, 'successful': 1, 'failed': 0}, '_seq_no': 1, '_primary_term': 1}\n",
      "{'datedetectionindex': {'mappings': {'properties': {'create_date': {'type': 'date', 'format': 'yyyy/MM/dd HH:mm:ss||yyyy/MM/dd||epoch_millis'}}}}}\n"
     ]
    }
   ],
   "source": [
    "resp = es.index(\n",
    "    index=\"datedetectionindex\",\n",
    "    id=\"1\",\n",
    "    document={\n",
    "        \"create_date\": \"2015/09/02\"\n",
    "    },\n",
    ")\n",
    "print(resp)\n",
    "\n",
    "resp1 = es.indices.get_mapping(\n",
    "    index=\"datedetectionindex\",\n",
    ")\n",
    "print(resp1)"
   ]
  },
  {
   "cell_type": "markdown",
   "metadata": {},
   "source": [
    "We can disable date detection by setting date_detection to false:"
   ]
  },
  {
   "cell_type": "code",
   "execution_count": 44,
   "metadata": {},
   "outputs": [
    {
     "name": "stdout",
     "output_type": "stream",
     "text": [
      "{'acknowledged': True, 'shards_acknowledged': True, 'index': 'datedetectionindex2'}\n",
      "{'_index': 'datedetectionindex2', '_id': '1', '_version': 1, 'result': 'created', '_shards': {'total': 2, 'successful': 1, 'failed': 0}, '_seq_no': 0, '_primary_term': 1}\n"
     ]
    }
   ],
   "source": [
    "es.indices.delete(index='datedetectionindex2') \n",
    "resp = es.indices.create(\n",
    "    index=\"datedetectionindex2\",\n",
    "    mappings={\n",
    "        \"date_detection\": False\n",
    "    },\n",
    ")\n",
    "print(resp)\n",
    "\n",
    "resp1 = es.index(\n",
    "    index=\"datedetectionindex2\",\n",
    "    id=\"1\",\n",
    "    document={\n",
    "        \"create_date\": \"2015/09/02\"\n",
    "    },\n",
    ")\n",
    "print(resp1)"
   ]
  },
  {
   "cell_type": "code",
   "execution_count": 45,
   "metadata": {},
   "outputs": [
    {
     "name": "stdout",
     "output_type": "stream",
     "text": [
      "{'datedetectionindex2': {'mappings': {'date_detection': False, 'properties': {'create_date': {'type': 'text', 'fields': {'keyword': {'type': 'keyword', 'ignore_above': 256}}}}}}}\n"
     ]
    }
   ],
   "source": [
    "mapping = es.indices.get_mapping(index='datedetectionindex2')\n",
    "print(mapping)"
   ]
  },
  {
   "cell_type": "markdown",
   "metadata": {},
   "source": [
    "Alternatively, the dynamic_date_formats can be customized to support your own date formats:"
   ]
  },
  {
   "cell_type": "code",
   "execution_count": null,
   "metadata": {},
   "outputs": [],
   "source": [
    "resp = es.indices.create(\n",
    "    index=\"my-index-000001\",\n",
    "    mappings={\n",
    "        \"dynamic_date_formats\": [\n",
    "            \"MM/dd/yyyy\"\n",
    "        ]\n",
    "    },\n",
    ")\n",
    "print(resp)\n",
    "\n",
    "resp1 = es.index(\n",
    "    index=\"my-index-000001\",\n",
    "    id=\"1\",\n",
    "    document={\n",
    "        \"create_date\": \"09/25/2015\"\n",
    "    },\n",
    ")\n",
    "print(resp1)"
   ]
  },
  {
   "cell_type": "markdown",
   "metadata": {},
   "source": [
    "##### NOTE:\n",
    "There is a difference between configuring an array of date patterns and configuring multiple patterns in a single string separated by ||. When you configure an array of date patterns, the pattern that matches the date in the first document with an unmapped date field will determine the mapping of that field:"
   ]
  },
  {
   "cell_type": "code",
   "execution_count": null,
   "metadata": {},
   "outputs": [],
   "source": [
    "resp = es.indices.create(\n",
    "    index=\"my-index-000002\",\n",
    "    mappings={\n",
    "        \"dynamic_date_formats\": [\n",
    "            \"yyyy/MM\",\n",
    "            \"MM/dd/yyyy\"\n",
    "        ]\n",
    "    },\n",
    ")\n",
    "\n",
    "resp = es.indices.create(\n",
    "    index=\"my-index-000003\",\n",
    "    mappings={\n",
    "        \"dynamic_date_formats\": [\n",
    "            \"yyyy/MM||MM/dd/yyyy\"\n",
    "        ]\n",
    "    },\n",
    ")\n",
    "\n",
    "print(resp)\n",
    "\n",
    "resp2 = es.index(\n",
    "    index=\"my-index-000002\",\n",
    "    id=\"1\",\n",
    "    document={\n",
    "        \"create_date\": \"09/25/2015\"\n",
    "    },\n",
    ")\n",
    "print(resp2)\n",
    "\n",
    "resp3 = es.index(\n",
    "    index=\"my-index-000003\",\n",
    "    id=\"1\",\n",
    "    document={\n",
    "        \"create_date\": \"2015/09\"\n",
    "    },\n",
    ")"
   ]
  },
  {
   "cell_type": "markdown",
   "metadata": {},
   "source": [
    "##### Numeric Detection\n",
    "We can also enable numeric detection (which is disabled by default) by setting the field \"numeric_detection\" to True"
   ]
  },
  {
   "cell_type": "markdown",
   "metadata": {},
   "source": [
    "#### Explicit Mapping\n",
    "Explicit mapping gives you greater control by specifying field types and properties upfront.\n",
    "\n",
    "This approach helps prevent incorrect data types and ensures consistent data handling."
   ]
  },
  {
   "cell_type": "code",
   "execution_count": null,
   "metadata": {},
   "outputs": [],
   "source": [
    "# Define explicit mapping\n",
    "explicit_mapping = {\n",
    "    \"mappings\": {\n",
    "        \"properties\": {\n",
    "            \"title\": { \"type\": \"text\" },\n",
    "            \"author\": { \"type\": \"keyword\" },\n",
    "            \"published\": { \"type\": \"date\", \"format\": \"yyyy-MM-dd\" },\n",
    "            \"price\": { \"type\": \"float\" },\n",
    "            \"tags\": { \"type\": \"keyword\" }\n",
    "        }\n",
    "    }\n",
    "}\n",
    "\n",
    "# Create index with custom mapping\n",
    "es.indices.create(index='library', body=explicit_mapping)\n",
    "\n",
    "# Index a sample document\n",
    "es.index(index='library', id=1, document={\n",
    "    \"title\": \"Mastering Elasticsearch\",\n",
    "    \"author\": \"John Doe\",\n",
    "    \"published\": \"2024-03-01\",\n",
    "    \"price\": 49.99,\n",
    "    \"tags\": [\"search\", \"elasticsearch\", \"big data\"]\n",
    "})\n"
   ]
  },
  {
   "cell_type": "markdown",
   "metadata": {},
   "source": [
    "# Text Analysis\n",
    "\n",
    "Elasticsearch provides powerful text analysis using analyzers, which process text for indexing and searching. It involves:\n",
    "\n",
    " - Character filter: Mainly used to strip off some unused characters or change some characters.\n",
    " - Tokenizer: Breaks a text into individual tokens(or words) and it does that based on certain factors(whitespace, ngram etc).\n",
    " - Token filter: It receives the tokens and then apply some filters(example changing uppercase terms to lowercase)."
   ]
  },
  {
   "cell_type": "code",
   "execution_count": null,
   "metadata": {},
   "outputs": [],
   "source": [
    "\n",
    "\n",
    "query = {\n",
    "  \"analyzer\": \"standard\",\n",
    "  \"text\": \"Running quickly through the fields.\"\n",
    "}\n",
    "res = es.indices.analyze(body=query)\n",
    "tokens = list(map(lambda n: n[\"token\"], res[\"tokens\"]))\n",
    "print(tokens)\n",
    "\n",
    "\n",
    "\n"
   ]
  },
  {
   "cell_type": "code",
   "execution_count": null,
   "metadata": {},
   "outputs": [],
   "source": [
    "# Define custom analyzer\n",
    "new_analyser = {\n",
    "  \"settings\": {\n",
    "    \"analysis\": {\n",
    "      \"analyzer\": {\n",
    "        \"my_custom_analyzer\": { \n",
    "          \"char_filter\": [\"emoticons\"],\n",
    "          \"tokenizer\": \"punctuation\",\n",
    "          \"filter\": [\"lowercase\", \"english_stop\"]\n",
    "        }\n",
    "      },\n",
    "      \"tokenizer\": {\n",
    "        \"punctuation\": { \n",
    "          \"type\": \"pattern\",\n",
    "          \"pattern\": \"[\\\\s.,!?]+\"  \n",
    "        }\n",
    "      },\n",
    "      \"char_filter\": {\n",
    "        \"emoticons\": { \n",
    "          \"type\": \"mapping\",\n",
    "          \"mappings\": [\n",
    "            \":) => _happy_\",\n",
    "            \":( => _sad_\"\n",
    "          ]\n",
    "        }\n",
    "      },\n",
    "      \"filter\": {\n",
    "        \"english_stop\": { \n",
    "          \"type\": \"stop\",\n",
    "          \"stopwords\": \"_english_\"\n",
    "        }  #It removes common English stop words (e.g., \"the\", \"and\", \"is\", \"of\", etc.). After tokenisation\n",
    "      }\n",
    "    }\n",
    "  }\n",
    "}\n",
    "\n",
    "# Delete index if it exists\n",
    "if es.indices.exists(index=index_name):\n",
    "    es.indices.delete(index=index_name)\n",
    "\n",
    "# Create index with custom analyzer\n",
    "es.indices.create(index=index_name, body=new_analyser)\n",
    "print(f\"Index '{index_name}' created successfully!\")\n",
    "\n",
    "query_new_analyser = {\n",
    "  \"analyzer\": \"my_custom_analyzer\",\n",
    "  \"text\": \"I'm a :) person, and you?\"\n",
    "}\n",
    "\n",
    "# Apply text analysis\n",
    "res = es.indices.analyze(index=index_name, body=query_new_analyser)\n",
    "\n",
    "# Extract and print tokens\n",
    "tokens = [token[\"token\"] for token in res[\"tokens\"]]\n",
    "print(tokens)\n"
   ]
  }
 ],
 "metadata": {
  "kernelspec": {
   "display_name": "venv",
   "language": "python",
   "name": "python3"
  },
  "language_info": {
   "codemirror_mode": {
    "name": "ipython",
    "version": 3
   },
   "file_extension": ".py",
   "mimetype": "text/x-python",
   "name": "python",
   "nbconvert_exporter": "python",
   "pygments_lexer": "ipython3",
   "version": "3.10.7"
  }
 },
 "nbformat": 4,
 "nbformat_minor": 2
}
