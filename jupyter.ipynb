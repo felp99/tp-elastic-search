{
 "cells": [
  {
   "cell_type": "markdown",
   "metadata": {},
   "source": [
    "### Connect to Elasticsearch"
   ]
  },
  {
   "cell_type": "code",
   "execution_count": 3,
   "metadata": {},
   "outputs": [
    {
     "name": "stdout",
     "output_type": "stream",
     "text": [
      "True\n"
     ]
    }
   ],
   "source": [
    "from elasticsearch import Elasticsearch\n",
    "\n",
    "es = Elasticsearch(\"http://localhost:9200\")\n",
    "\n",
    "print(es.ping())"
   ]
  },
  {
   "cell_type": "markdown",
   "metadata": {},
   "source": [
    "### Create an Index\n",
    "\n",
    "#### What is an Index in Elasticsearch?\n",
    "An index in Elasticsearch is similar to a database in a relational database system. It is a collection of documents that share similar characteristics. Each document is stored as a JSON object and has a unique identifier."
   ]
  },
  {
   "cell_type": "code",
   "execution_count": 4,
   "metadata": {},
   "outputs": [
    {
     "name": "stdout",
     "output_type": "stream",
     "text": [
      "Index 'test_index' created.\n"
     ]
    }
   ],
   "source": [
    "index_name = \"test_index\"\n",
    "\n",
    "if not es.indices.exists(index=index_name):\n",
    "    es.indices.create(index=index_name)\n",
    "    print(f\"Index '{index_name}' created.\")\n",
    "else:\n",
    "    print(f\"Index '{index_name}' already exists.\")"
   ]
  },
  {
   "cell_type": "code",
   "execution_count": 5,
   "metadata": {},
   "outputs": [
    {
     "name": "stdout",
     "output_type": "stream",
     "text": [
      "{'_index': 'test_index', '_id': '1', '_version': 1, 'result': 'created', '_shards': {'total': 2, 'successful': 1, 'failed': 0}, '_seq_no': 0, '_primary_term': 1}\n"
     ]
    }
   ],
   "source": [
    "doc = {\n",
    "    \"name\": \"John Doe\",\n",
    "    \"age\": 30,\n",
    "    \"occupation\": \"Software Engineer\",\n",
    "    \"location\": \"San Francisco\"\n",
    "}\n",
    "\n",
    "res = es.index(index=index_name, id=1, document=doc)\n",
    "print(res)"
   ]
  },
  {
   "cell_type": "code",
   "execution_count": 42,
   "metadata": {},
   "outputs": [
    {
     "name": "stdout",
     "output_type": "stream",
     "text": [
      "{'took': 2, 'timed_out': False, '_shards': {'total': 1, 'successful': 1, 'skipped': 0, 'failed': 0}, 'hits': {'total': {'value': 0, 'relation': 'eq'}, 'max_score': None, 'hits': []}}\n"
     ]
    }
   ],
   "source": [
    "query = {\n",
    "    \"query\": {\n",
    "        \"match\": {\n",
    "            \"occupation\": \"Software Engineer\"\n",
    "        }\n",
    "    }\n",
    "}\n",
    "\n",
    "res = es.search(index=index_name, body=query)\n",
    "print(res)\n"
   ]
  },
  {
   "cell_type": "code",
   "execution_count": 43,
   "metadata": {},
   "outputs": [
    {
     "data": {
      "text/plain": [
       "ObjectApiResponse({'_index': 'test_index', '_id': '1', '_version': 2, 'result': 'updated', '_shards': {'total': 2, 'successful': 1, 'failed': 0}, '_seq_no': 1, '_primary_term': 1})"
      ]
     },
     "execution_count": 43,
     "metadata": {},
     "output_type": "execute_result"
    }
   ],
   "source": [
    "update_query = {\n",
    "    \"doc\": {\n",
    "        \"age\": 31\n",
    "    }\n",
    "}\n",
    "\n",
    "es.update(index=index_name, id=1, body=update_query)"
   ]
  },
  {
   "cell_type": "code",
   "execution_count": 44,
   "metadata": {},
   "outputs": [
    {
     "data": {
      "text/plain": [
       "ObjectApiResponse({'_index': 'test_index', '_id': '1', '_version': 3, 'result': 'deleted', '_shards': {'total': 2, 'successful': 1, 'failed': 0}, '_seq_no': 2, '_primary_term': 1})"
      ]
     },
     "execution_count": 44,
     "metadata": {},
     "output_type": "execute_result"
    }
   ],
   "source": [
    "es.delete(index=index_name, id=1)\n"
   ]
  },
  {
   "cell_type": "code",
   "execution_count": 6,
   "metadata": {},
   "outputs": [
    {
     "name": "stdout",
     "output_type": "stream",
     "text": [
      "{'took': 10, 'timed_out': False, '_shards': {'total': 1, 'successful': 1, 'skipped': 0, 'failed': 0}, 'hits': {'total': {'value': 1, 'relation': 'eq'}, 'max_score': None, 'hits': []}, 'aggregations': {'average_age': {'value': 30.0}}}\n"
     ]
    }
   ],
   "source": [
    "aggregation_query = {\n",
    "    \"size\": 0,\n",
    "    \"aggs\": {\n",
    "        \"average_age\": {\n",
    "            \"avg\": {\n",
    "                \"field\": \"age\"\n",
    "            }\n",
    "        }\n",
    "    }\n",
    "}\n",
    "\n",
    "res = es.search(index=index_name, body=aggregation_query)\n",
    "print(res)"
   ]
  },
  {
   "cell_type": "code",
   "execution_count": 7,
   "metadata": {},
   "outputs": [
    {
     "data": {
      "text/plain": [
       "(8, [])"
      ]
     },
     "execution_count": 7,
     "metadata": {},
     "output_type": "execute_result"
    }
   ],
   "source": [
    "from elasticsearch.helpers import bulk\n",
    "\n",
    "# Bulk inserting multiple documents\n",
    "actions = [\n",
    "    {\"_index\": index_name, \"_id\": i, \"_source\": {\"name\": f\"User {i}\", \"age\": 25 + i, \"occupation\": \"Developer\"}}\n",
    "    for i in range(2, 10)\n",
    "]\n",
    "\n",
    "bulk(es, actions)\n"
   ]
  },
  {
   "cell_type": "markdown",
   "metadata": {},
   "source": [
    "### What is a Shard in Elasticsearch?\n",
    "A shard is a subdivision of an index. Each index is split into multiple shards for better performance and fault tolerance.\n",
    "\n",
    "Primary Shards: Store the actual data.\n",
    "Replica Shards: Backup copies of primary shards for redundancy.\n",
    "Each shard is an independent Lucene index that can be stored on a different node in a cluster.\n",
    "\n",
    "Example: How Shards Improve Performance\n",
    "Imagine we have 1 million documents in an index. Instead of storing all of them in a single server, we can distribute them across multiple shards, which can then be placed on different servers (nodes).\n",
    "\n",
    "Creating an Index with Shards and Replicas"
   ]
  },
  {
   "cell_type": "code",
   "execution_count": 8,
   "metadata": {},
   "outputs": [
    {
     "name": "stdout",
     "output_type": "stream",
     "text": [
      "Created index: sharded_index\n"
     ]
    }
   ],
   "source": [
    "sharded_mapping = {\n",
    "    \"settings\": {\n",
    "        \"number_of_shards\": 3,  # Multiple shards for parallel processing\n",
    "        \"number_of_replicas\": 1\n",
    "    },\n",
    "}\n",
    "\n",
    "if es.indices.exists(index='sharded_index'):\n",
    "    es.indices.delete(index='sharded_index')  # Delete existing index to avoid conflicts\n",
    "    print(f\"Deleted existing index: sharded_index\")\n",
    "\n",
    "es.indices.create(index='sharded_index', body=sharded_mapping)\n",
    "print(f\"Created index: sharded_index\")\n"
   ]
  },
  {
   "cell_type": "markdown",
   "metadata": {},
   "source": [
    "Creating an Index with no Shards or Replicas"
   ]
  },
  {
   "cell_type": "code",
   "execution_count": 9,
   "metadata": {},
   "outputs": [
    {
     "name": "stdout",
     "output_type": "stream",
     "text": [
      "Created index: unsharded_index\n"
     ]
    }
   ],
   "source": [
    "unsharded_mapping = {\n",
    "    \"settings\": {\n",
    "        \"number_of_shards\": 1,  # Multiple shards for parallel processing\n",
    "        \"number_of_replicas\": 1\n",
    "    },\n",
    "}\n",
    "\n",
    "if es.indices.exists(index='unsharded_index'):\n",
    "    es.indices.delete(index='unsharded_index')  # Delete existing index to avoid conflicts\n",
    "    print(f\"Deleted existing index: unsharded_index\")\n",
    "\n",
    "es.indices.create(index='unsharded_index', body=unsharded_mapping)\n",
    "print(f\"Created index: unsharded_index\")\n"
   ]
  },
  {
   "cell_type": "code",
   "execution_count": 10,
   "metadata": {},
   "outputs": [
    {
     "name": "stderr",
     "output_type": "stream",
     "text": [
      "C:\\Users\\b_sou\\AppData\\Local\\Temp\\ipykernel_14908\\3327270082.py:4: DtypeWarning: Columns (0) have mixed types. Specify dtype option on import or set low_memory=False.\n",
      "  df = pd.read_csv(\"crime_data.csv\")\n",
      "C:\\Users\\b_sou\\AppData\\Local\\Temp\\ipykernel_14908\\3327270082.py:5: FutureWarning: Setting an item of incompatible dtype is deprecated and will raise an error in a future version of pandas. Value '' has dtype incompatible with float64, please explicitly cast to a compatible dtype first.\n",
      "  df.fillna(\"\", inplace=True)\n"
     ]
    },
    {
     "ename": "BulkIndexError",
     "evalue": "4 document(s) failed to index.",
     "output_type": "error",
     "traceback": [
      "\u001b[1;31m---------------------------------------------------------------------------\u001b[0m",
      "\u001b[1;31mBulkIndexError\u001b[0m                            Traceback (most recent call last)",
      "Cell \u001b[1;32mIn[10], line 25\u001b[0m\n\u001b[0;32m      7\u001b[0m actions_unsharded_index \u001b[38;5;241m=\u001b[39m [\n\u001b[0;32m      8\u001b[0m     {\n\u001b[0;32m      9\u001b[0m         \u001b[38;5;124m\"\u001b[39m\u001b[38;5;124m_index\u001b[39m\u001b[38;5;124m\"\u001b[39m: \u001b[38;5;124m'\u001b[39m\u001b[38;5;124munsharded_index\u001b[39m\u001b[38;5;124m'\u001b[39m,\n\u001b[1;32m   (...)\u001b[0m\n\u001b[0;32m     13\u001b[0m     \u001b[38;5;28;01mfor\u001b[39;00m _, row \u001b[38;5;129;01min\u001b[39;00m df\u001b[38;5;241m.\u001b[39miterrows()\n\u001b[0;32m     14\u001b[0m ]\n\u001b[0;32m     16\u001b[0m actions_sharded_index \u001b[38;5;241m=\u001b[39m [\n\u001b[0;32m     17\u001b[0m     {\n\u001b[0;32m     18\u001b[0m         \u001b[38;5;124m\"\u001b[39m\u001b[38;5;124m_index\u001b[39m\u001b[38;5;124m\"\u001b[39m: \u001b[38;5;124m'\u001b[39m\u001b[38;5;124msharded_index\u001b[39m\u001b[38;5;124m'\u001b[39m,\n\u001b[1;32m   (...)\u001b[0m\n\u001b[0;32m     22\u001b[0m     \u001b[38;5;28;01mfor\u001b[39;00m _, row \u001b[38;5;129;01min\u001b[39;00m df\u001b[38;5;241m.\u001b[39miterrows()\n\u001b[0;32m     23\u001b[0m ]\n\u001b[1;32m---> 25\u001b[0m success, failed \u001b[38;5;241m=\u001b[39m \u001b[43mbulk\u001b[49m\u001b[43m(\u001b[49m\u001b[43mes\u001b[49m\u001b[43m,\u001b[49m\u001b[43m \u001b[49m\u001b[43mactions_unsharded_index\u001b[49m\u001b[43m)\u001b[49m\n",
      "File \u001b[1;32mc:\\Users\\b_sou\\Desktop\\Projet Big Data\\tp-elastic-search\\tp\\Lib\\site-packages\\elasticsearch\\helpers\\actions.py:540\u001b[0m, in \u001b[0;36mbulk\u001b[1;34m(client, actions, stats_only, ignore_status, *args, **kwargs)\u001b[0m\n\u001b[0;32m    538\u001b[0m \u001b[38;5;66;03m# make streaming_bulk yield successful results so we can count them\u001b[39;00m\n\u001b[0;32m    539\u001b[0m kwargs[\u001b[38;5;124m\"\u001b[39m\u001b[38;5;124myield_ok\u001b[39m\u001b[38;5;124m\"\u001b[39m] \u001b[38;5;241m=\u001b[39m \u001b[38;5;28;01mTrue\u001b[39;00m\n\u001b[1;32m--> 540\u001b[0m \u001b[43m\u001b[49m\u001b[38;5;28;43;01mfor\u001b[39;49;00m\u001b[43m \u001b[49m\u001b[43mok\u001b[49m\u001b[43m,\u001b[49m\u001b[43m \u001b[49m\u001b[43mitem\u001b[49m\u001b[43m \u001b[49m\u001b[38;5;129;43;01min\u001b[39;49;00m\u001b[43m \u001b[49m\u001b[43mstreaming_bulk\u001b[49m\u001b[43m(\u001b[49m\n\u001b[0;32m    541\u001b[0m \u001b[43m    \u001b[49m\u001b[43mclient\u001b[49m\u001b[43m,\u001b[49m\u001b[43m \u001b[49m\u001b[43mactions\u001b[49m\u001b[43m,\u001b[49m\u001b[43m \u001b[49m\u001b[43mignore_status\u001b[49m\u001b[38;5;241;43m=\u001b[39;49m\u001b[43mignore_status\u001b[49m\u001b[43m,\u001b[49m\u001b[43m \u001b[49m\u001b[43mspan_name\u001b[49m\u001b[38;5;241;43m=\u001b[39;49m\u001b[38;5;124;43m\"\u001b[39;49m\u001b[38;5;124;43mhelpers.bulk\u001b[39;49m\u001b[38;5;124;43m\"\u001b[39;49m\u001b[43m,\u001b[49m\u001b[43m \u001b[49m\u001b[38;5;241;43m*\u001b[39;49m\u001b[43margs\u001b[49m\u001b[43m,\u001b[49m\u001b[43m \u001b[49m\u001b[38;5;241;43m*\u001b[39;49m\u001b[38;5;241;43m*\u001b[39;49m\u001b[43mkwargs\u001b[49m\u001b[43m  \u001b[49m\u001b[38;5;66;43;03m# type: ignore[misc]\u001b[39;49;00m\n\u001b[0;32m    542\u001b[0m \u001b[43m\u001b[49m\u001b[43m)\u001b[49m\u001b[43m:\u001b[49m\n\u001b[0;32m    543\u001b[0m \u001b[43m    \u001b[49m\u001b[38;5;66;43;03m# go through request-response pairs and detect failures\u001b[39;49;00m\n\u001b[0;32m    544\u001b[0m \u001b[43m    \u001b[49m\u001b[38;5;28;43;01mif\u001b[39;49;00m\u001b[43m \u001b[49m\u001b[38;5;129;43;01mnot\u001b[39;49;00m\u001b[43m \u001b[49m\u001b[43mok\u001b[49m\u001b[43m:\u001b[49m\n\u001b[0;32m    545\u001b[0m \u001b[43m        \u001b[49m\u001b[38;5;28;43;01mif\u001b[39;49;00m\u001b[43m \u001b[49m\u001b[38;5;129;43;01mnot\u001b[39;49;00m\u001b[43m \u001b[49m\u001b[43mstats_only\u001b[49m\u001b[43m:\u001b[49m\n",
      "File \u001b[1;32mc:\\Users\\b_sou\\Desktop\\Projet Big Data\\tp-elastic-search\\tp\\Lib\\site-packages\\elasticsearch\\helpers\\actions.py:453\u001b[0m, in \u001b[0;36mstreaming_bulk\u001b[1;34m(client, actions, chunk_size, max_chunk_bytes, raise_on_error, expand_action_callback, raise_on_exception, max_retries, initial_backoff, max_backoff, yield_ok, ignore_status, retry_on_status, span_name, *args, **kwargs)\u001b[0m\n\u001b[0;32m    450\u001b[0m     time\u001b[38;5;241m.\u001b[39msleep(\u001b[38;5;28mmin\u001b[39m(max_backoff, initial_backoff \u001b[38;5;241m*\u001b[39m \u001b[38;5;241m2\u001b[39m \u001b[38;5;241m*\u001b[39m\u001b[38;5;241m*\u001b[39m (attempt \u001b[38;5;241m-\u001b[39m \u001b[38;5;241m1\u001b[39m)))\n\u001b[0;32m    452\u001b[0m \u001b[38;5;28;01mtry\u001b[39;00m:\n\u001b[1;32m--> 453\u001b[0m \u001b[43m    \u001b[49m\u001b[38;5;28;43;01mfor\u001b[39;49;00m\u001b[43m \u001b[49m\u001b[43mdata\u001b[49m\u001b[43m,\u001b[49m\u001b[43m \u001b[49m\u001b[43m(\u001b[49m\u001b[43mok\u001b[49m\u001b[43m,\u001b[49m\u001b[43m \u001b[49m\u001b[43minfo\u001b[49m\u001b[43m)\u001b[49m\u001b[43m \u001b[49m\u001b[38;5;129;43;01min\u001b[39;49;00m\u001b[43m \u001b[49m\u001b[38;5;28;43mzip\u001b[39;49m\u001b[43m(\u001b[49m\n\u001b[0;32m    454\u001b[0m \u001b[43m        \u001b[49m\u001b[43mbulk_data\u001b[49m\u001b[43m,\u001b[49m\n\u001b[0;32m    455\u001b[0m \u001b[43m        \u001b[49m\u001b[43m_process_bulk_chunk\u001b[49m\u001b[43m(\u001b[49m\n\u001b[0;32m    456\u001b[0m \u001b[43m            \u001b[49m\u001b[43mclient\u001b[49m\u001b[43m,\u001b[49m\n\u001b[0;32m    457\u001b[0m \u001b[43m            \u001b[49m\u001b[43mbulk_actions\u001b[49m\u001b[43m,\u001b[49m\n\u001b[0;32m    458\u001b[0m \u001b[43m            \u001b[49m\u001b[43mbulk_data\u001b[49m\u001b[43m,\u001b[49m\n\u001b[0;32m    459\u001b[0m \u001b[43m            \u001b[49m\u001b[43motel_span\u001b[49m\u001b[43m,\u001b[49m\n\u001b[0;32m    460\u001b[0m \u001b[43m            \u001b[49m\u001b[43mraise_on_exception\u001b[49m\u001b[43m,\u001b[49m\n\u001b[0;32m    461\u001b[0m \u001b[43m            \u001b[49m\u001b[43mraise_on_error\u001b[49m\u001b[43m,\u001b[49m\n\u001b[0;32m    462\u001b[0m \u001b[43m            \u001b[49m\u001b[43mignore_status\u001b[49m\u001b[43m,\u001b[49m\n\u001b[0;32m    463\u001b[0m \u001b[43m            \u001b[49m\u001b[38;5;241;43m*\u001b[39;49m\u001b[43margs\u001b[49m\u001b[43m,\u001b[49m\n\u001b[0;32m    464\u001b[0m \u001b[43m            \u001b[49m\u001b[38;5;241;43m*\u001b[39;49m\u001b[38;5;241;43m*\u001b[39;49m\u001b[43mkwargs\u001b[49m\u001b[43m,\u001b[49m\n\u001b[0;32m    465\u001b[0m \u001b[43m        \u001b[49m\u001b[43m)\u001b[49m\u001b[43m,\u001b[49m\n\u001b[0;32m    466\u001b[0m \u001b[43m    \u001b[49m\u001b[43m)\u001b[49m\u001b[43m:\u001b[49m\n\u001b[0;32m    467\u001b[0m \u001b[43m        \u001b[49m\u001b[38;5;28;43;01mif\u001b[39;49;00m\u001b[43m \u001b[49m\u001b[38;5;129;43;01mnot\u001b[39;49;00m\u001b[43m \u001b[49m\u001b[43mok\u001b[49m\u001b[43m:\u001b[49m\n\u001b[0;32m    468\u001b[0m \u001b[43m            \u001b[49m\u001b[43maction\u001b[49m\u001b[43m,\u001b[49m\u001b[43m \u001b[49m\u001b[43minfo\u001b[49m\u001b[43m \u001b[49m\u001b[38;5;241;43m=\u001b[39;49m\u001b[43m \u001b[49m\u001b[43minfo\u001b[49m\u001b[38;5;241;43m.\u001b[39;49m\u001b[43mpopitem\u001b[49m\u001b[43m(\u001b[49m\u001b[43m)\u001b[49m\n",
      "File \u001b[1;32mc:\\Users\\b_sou\\Desktop\\Projet Big Data\\tp-elastic-search\\tp\\Lib\\site-packages\\elasticsearch\\helpers\\actions.py:359\u001b[0m, in \u001b[0;36m_process_bulk_chunk\u001b[1;34m(client, bulk_actions, bulk_data, otel_span, raise_on_exception, raise_on_error, ignore_status, *args, **kwargs)\u001b[0m\n\u001b[0;32m    352\u001b[0m \u001b[38;5;28;01melse\u001b[39;00m:\n\u001b[0;32m    353\u001b[0m     gen \u001b[38;5;241m=\u001b[39m _process_bulk_chunk_success(\n\u001b[0;32m    354\u001b[0m         resp\u001b[38;5;241m=\u001b[39mresp\u001b[38;5;241m.\u001b[39mbody,\n\u001b[0;32m    355\u001b[0m         bulk_data\u001b[38;5;241m=\u001b[39mbulk_data,\n\u001b[0;32m    356\u001b[0m         ignore_status\u001b[38;5;241m=\u001b[39mignore_status,\n\u001b[0;32m    357\u001b[0m         raise_on_error\u001b[38;5;241m=\u001b[39mraise_on_error,\n\u001b[0;32m    358\u001b[0m     )\n\u001b[1;32m--> 359\u001b[0m \u001b[38;5;28;01myield from\u001b[39;00m gen\n",
      "File \u001b[1;32mc:\\Users\\b_sou\\Desktop\\Projet Big Data\\tp-elastic-search\\tp\\Lib\\site-packages\\elasticsearch\\helpers\\actions.py:276\u001b[0m, in \u001b[0;36m_process_bulk_chunk_success\u001b[1;34m(resp, bulk_data, ignore_status, raise_on_error)\u001b[0m\n\u001b[0;32m    273\u001b[0m         \u001b[38;5;28;01myield\u001b[39;00m ok, {op_type: item}\n\u001b[0;32m    275\u001b[0m \u001b[38;5;28;01mif\u001b[39;00m errors:\n\u001b[1;32m--> 276\u001b[0m     \u001b[38;5;28;01mraise\u001b[39;00m BulkIndexError(\u001b[38;5;124mf\u001b[39m\u001b[38;5;124m\"\u001b[39m\u001b[38;5;132;01m{\u001b[39;00m\u001b[38;5;28mlen\u001b[39m(errors)\u001b[38;5;132;01m}\u001b[39;00m\u001b[38;5;124m document(s) failed to index.\u001b[39m\u001b[38;5;124m\"\u001b[39m, errors)\n",
      "\u001b[1;31mBulkIndexError\u001b[0m: 4 document(s) failed to index."
     ]
    }
   ],
   "source": [
    "import pandas as pd\n",
    "from elasticsearch.helpers import bulk\n",
    "\n",
    "df = pd.read_csv(\"crime_data.csv\")\n",
    "df.fillna(\"\", inplace=True)\n",
    "\n",
    "actions_unsharded_index = [\n",
    "    {\n",
    "        \"_index\": 'unsharded_index',\n",
    "        \"_id\": row[\"DR_NO\"],\n",
    "        \"_source\": row.to_dict()\n",
    "    }\n",
    "    for _, row in df.iterrows()\n",
    "]\n",
    "\n",
    "actions_sharded_index = [\n",
    "    {\n",
    "        \"_index\": 'sharded_index',\n",
    "        \"_id\": row[\"DR_NO\"],\n",
    "        \"_source\": row.to_dict()\n",
    "    }\n",
    "    for _, row in df.iterrows()\n",
    "]\n",
    "\n",
    "success, failed = bulk(es, actions_unsharded_index)"
   ]
  },
  {
   "cell_type": "code",
   "execution_count": null,
   "metadata": {},
   "outputs": [],
   "source": [
    "success, failed = bulk(es, actions_sharded_index)"
   ]
  },
  {
   "cell_type": "markdown",
   "metadata": {},
   "source": [
    "### Mapping\n",
    "Mapping is the process of defining how documents and their fields are stored and indexed in Elasticsearch.\n",
    "\n",
    "It defines data types (e.g., text, keyword, date) and specifies how data should be interpreted.\n",
    "\n",
    "Mapping is crucial for accurate search results, performance optimization, and data integrity."
   ]
  },
  {
   "cell_type": "markdown",
   "metadata": {},
   "source": [
    "#### Dynamic Mapping\n",
    "Dynamic mapping allows Elasticsearch to automatically detect and assign data types for new fields.\n",
    "\n",
    "This is useful for rapidly changing or unpredictable data structures.\n",
    "\n",
    "Example :"
   ]
  },
  {
   "cell_type": "code",
   "execution_count": 11,
   "metadata": {},
   "outputs": [
    {
     "name": "stdout",
     "output_type": "stream",
     "text": [
      "Dynamic Mapping Result: {'books': {'mappings': {'properties': {'pages': {'type': 'long'}, 'price': {'type': 'float'}, 'published': {'type': 'date'}, 'title': {'type': 'text', 'fields': {'keyword': {'type': 'keyword', 'ignore_above': 256}}}}}}}\n"
     ]
    }
   ],
   "source": [
    "doc = {\n",
    "    \"title\": \"Learning Elasticsearch\",\n",
    "    \"pages\": 320,\n",
    "    \"price\": 29.99,\n",
    "    \"published\": \"2024-03-01\"\n",
    "}\n",
    "\n",
    "# Index the document\n",
    "es.index(index='books', id=1, document=doc)\n",
    "\n",
    "# View the generated mapping\n",
    "mapping = es.indices.get_mapping(index='books')\n",
    "print(\"Dynamic Mapping Result:\", mapping)"
   ]
  },
  {
   "cell_type": "markdown",
   "metadata": {},
   "source": [
    "#### Explicit Mapping\n",
    "Explicit mapping gives you greater control by specifying field types and properties upfront.\n",
    "\n",
    "This approach helps prevent incorrect data types and ensures consistent data handling."
   ]
  },
  {
   "cell_type": "code",
   "execution_count": null,
   "metadata": {},
   "outputs": [],
   "source": [
    "# Define explicit mapping\n",
    "explicit_mapping = {\n",
    "    \"mappings\": {\n",
    "        \"properties\": {\n",
    "            \"title\": { \"type\": \"text\" },\n",
    "            \"author\": { \"type\": \"keyword\" },\n",
    "            \"published\": { \"type\": \"date\", \"format\": \"yyyy-MM-dd\" },\n",
    "            \"price\": { \"type\": \"float\" },\n",
    "            \"tags\": { \"type\": \"keyword\" }\n",
    "        }\n",
    "    }\n",
    "}\n",
    "\n",
    "# Create index with custom mapping\n",
    "es.indices.create(index='library', body=explicit_mapping)\n",
    "\n",
    "# Index a sample document\n",
    "es.index(index='library', id=1, document={\n",
    "    \"title\": \"Mastering Elasticsearch\",\n",
    "    \"author\": \"John Doe\",\n",
    "    \"published\": \"2024-03-01\",\n",
    "    \"price\": 49.99,\n",
    "    \"tags\": [\"search\", \"elasticsearch\", \"big data\"]\n",
    "})\n"
   ]
  },
  {
   "cell_type": "markdown",
   "metadata": {},
   "source": [
    "# Text Analysis\n",
    "\n",
    "Elasticsearch provides powerful text analysis using analyzers, which process text for indexing and searching. It involves:\n",
    "\n",
    " - Character filter: Mainly used to strip off some unused characters or change some characters.\n",
    " - Tokenizer: Breaks a text into individual tokens(or words) and it does that based on certain factors(whitespace, ngram etc).\n",
    " - Token filter: It receives the tokens and then apply some filters(example changing uppercase terms to lowercase)."
   ]
  },
  {
   "cell_type": "code",
   "execution_count": null,
   "metadata": {},
   "outputs": [],
   "source": [
    "\n",
    "\n",
    "query = {\n",
    "  \"analyzer\": \"standard\",\n",
    "  \"text\": \"Running quickly through the fields.\"\n",
    "}\n",
    "res = es.indices.analyze(body=query)\n",
    "tokens = list(map(lambda n: n[\"token\"], res[\"tokens\"]))\n",
    "print(tokens)\n",
    "\n",
    "\n",
    "\n"
   ]
  },
  {
   "cell_type": "code",
   "execution_count": null,
   "metadata": {},
   "outputs": [],
   "source": [
    "# Define custom analyzer\n",
    "new_analyser = {\n",
    "  \"settings\": {\n",
    "    \"analysis\": {\n",
    "      \"analyzer\": {\n",
    "        \"my_custom_analyzer\": { \n",
    "          \"char_filter\": [\"emoticons\"],\n",
    "          \"tokenizer\": \"punctuation\",\n",
    "          \"filter\": [\"lowercase\", \"english_stop\"]\n",
    "        }\n",
    "      },\n",
    "      \"tokenizer\": {\n",
    "        \"punctuation\": { \n",
    "          \"type\": \"pattern\",\n",
    "          \"pattern\": \"[\\\\s.,!?]+\"  \n",
    "        }\n",
    "      },\n",
    "      \"char_filter\": {\n",
    "        \"emoticons\": { \n",
    "          \"type\": \"mapping\",\n",
    "          \"mappings\": [\n",
    "            \":) => _happy_\",\n",
    "            \":( => _sad_\"\n",
    "          ]\n",
    "        }\n",
    "      },\n",
    "      \"filter\": {\n",
    "        \"english_stop\": { \n",
    "          \"type\": \"stop\",\n",
    "          \"stopwords\": \"_english_\"\n",
    "        }  #It removes common English stop words (e.g., \"the\", \"and\", \"is\", \"of\", etc.). After tokenisation\n",
    "      }\n",
    "    }\n",
    "  }\n",
    "}\n",
    "\n",
    "# Delete index if it exists\n",
    "if es.indices.exists(index=index_name):\n",
    "    es.indices.delete(index=index_name)\n",
    "\n",
    "# Create index with custom analyzer\n",
    "es.indices.create(index=index_name, body=new_analyser)\n",
    "print(f\"Index '{index_name}' created successfully!\")\n",
    "\n",
    "query_new_analyser = {\n",
    "  \"analyzer\": \"my_custom_analyzer\",\n",
    "  \"text\": \"I'm a :) person, and you?\"\n",
    "}\n",
    "\n",
    "# Apply text analysis\n",
    "res = es.indices.analyze(index=index_name, body=query_new_analyser)\n",
    "\n",
    "# Extract and print tokens\n",
    "tokens = [token[\"token\"] for token in res[\"tokens\"]]\n",
    "print(tokens)\n"
   ]
  },
  {
   "cell_type": "markdown",
   "metadata": {},
   "source": [
    "# Query DSL\n",
    "Le Query DSL d'Elasticsearch (Domain Specific Language) est un langage puissant et flexible utilisé pour effectuer des requêtes de recherche. Il permet de rechercher, de filtrer et de trier les données dans Elasticsearch de manière structurée. "
   ]
  },
  {
   "cell_type": "code",
   "execution_count": 13,
   "metadata": {},
   "outputs": [],
   "source": [
    "from datetime import datetime\n",
    "import random\n",
    "\n",
    "# 1. CRÉATION D'UN JEU DE DONNÉES SIMPLE\n",
    "# =======================================\n",
    "\n",
    "def create_simple_dataset(n=20):\n",
    "    \"\"\"Crée un dataset simple d'articles pour Elasticsearch\"\"\"\n",
    "    \n",
    "    # Listes pour générer des données aléatoires\n",
    "    topics = [\"Elasticsearch\", \"Python\", \"Data Science\", \"NoSQL\", \"Database\"]\n",
    "    tags = [\"search\", \"database\", \"python\", \"tutorial\", \"analytics\"]\n",
    "    statuses = [\"published\", \"draft\", \"archived\"]\n",
    "    \n",
    "    articles = []\n",
    "    \n",
    "    for i in range(n):\n",
    "        # Générer un titre\n",
    "        primary_topic = random.choice(topics)\n",
    "        title = f\"Guide {primary_topic} pour débutants\"\n",
    "        \n",
    "        # Générer des tags (2-3 tags par article)\n",
    "        num_tags = random.randint(2, 3)\n",
    "        article_tags = random.sample(tags, num_tags)\n",
    "        \n",
    "        # Générer une date\n",
    "        year = random.randint(2020, 2024)\n",
    "        month = random.randint(1, 12)\n",
    "        day = random.randint(1, 28)\n",
    "        date = f\"{year}-{month:02d}-{day:02d}\"\n",
    "        \n",
    "        # Générer un contenu court\n",
    "        content = f\"Cet article explique les bases de {primary_topic}. \"\n",
    "        content += f\"Vous apprendrez comment utiliser {primary_topic} pour l'analyse de données. \"\n",
    "        content += f\"Des exemples en code sont fournis pour illustrer les concepts.\"\n",
    "        \n",
    "        # Créer l'article\n",
    "        article = {\n",
    "            \"id\": i + 1,\n",
    "            \"title\": title,\n",
    "            \"content\": content,\n",
    "            \"author\": f\"author_{random.randint(1, 5)}\",\n",
    "            \"date\": date,\n",
    "            \"tags\": article_tags,\n",
    "            \"rating\": round(random.uniform(1.0, 5.0), 1),\n",
    "            \"status\": random.choice(statuses),\n",
    "            \"views\": random.randint(100, 1000)\n",
    "        }\n",
    "        \n",
    "        articles.append(article)\n",
    "    \n",
    "    return pd.DataFrame(articles)"
   ]
  },
  {
   "cell_type": "code",
   "execution_count": 25,
   "metadata": {},
   "outputs": [
    {
     "name": "stdout",
     "output_type": "stream",
     "text": [
      "\n",
      "Jeu de données d'articles (5 premiers):\n",
      "   id                               title                   tags  rating  \\\n",
      "0   1   Guide Data Science pour débutants     [database, python]     3.7   \n",
      "1   2          Guide NoSQL pour débutants     [search, tutorial]     3.0   \n",
      "2   3   Guide Data Science pour débutants   [tutorial, database]     3.9   \n",
      "3   4          Guide NoSQL pour débutants       [search, python]     2.4   \n",
      "4   5  Guide Elasticsearch pour débutants  [database, analytics]     1.5   \n",
      "\n",
      "      status  \n",
      "0   archived  \n",
      "1  published  \n",
      "2  published  \n",
      "3   archived  \n",
      "4   archived  \n"
     ]
    }
   ],
   "source": [
    "articles_df = create_simple_dataset(20)\n",
    "print(\"\\nJeu de données d'articles (5 premiers):\")\n",
    "print(articles_df[[\"id\", \"title\", \"tags\", \"rating\", \"status\"]].head())"
   ]
  },
  {
   "cell_type": "code",
   "execution_count": 26,
   "metadata": {},
   "outputs": [],
   "source": [
    "# 2. INDEXATION DANS ELASTICSEARCH\n",
    "# ================================\n",
    "\n",
    "def setup_elasticsearch_index(articles_df):\n",
    "    \"\"\"Crée l'index et indexe les articles\"\"\"\n",
    "    \n",
    "    # Mapping pour l'index des articles\n",
    "    articles_mapping = {\n",
    "        \"mappings\": {\n",
    "            \"properties\": {\n",
    "                \"id\": {\"type\": \"integer\"},\n",
    "                \"title\": {\"type\": \"text\", \"analyzer\": \"standard\"},\n",
    "                \"content\": {\"type\": \"text\", \"analyzer\": \"standard\"},\n",
    "                \"author\": {\"type\": \"keyword\"},\n",
    "                \"date\": {\"type\": \"date\", \"format\": \"yyyy-MM-dd\"},\n",
    "                \"tags\": {\"type\": \"keyword\"},\n",
    "                \"rating\": {\"type\": \"float\"},\n",
    "                \"status\": {\"type\": \"keyword\"},\n",
    "                \"views\": {\"type\": \"integer\"}\n",
    "            }\n",
    "        }\n",
    "    }\n",
    "    \n",
    "    # Supprimer l'index s'il existe\n",
    "    if es.indices.exists(index=\"articles\"):\n",
    "        es.indices.delete(index=\"articles\")\n",
    "    \n",
    "    # Créer l'index avec le mapping\n",
    "    es.indices.create(index=\"articles\", body=articles_mapping)\n",
    "    \n",
    "    # Indexer les articles\n",
    "    print(\"Indexation des articles...\")\n",
    "    for _, article in articles_df.iterrows():\n",
    "        es.index(index=\"articles\", id=article[\"id\"], document=article.to_dict())\n",
    "    \n",
    "    # Rafraîchir l'index\n",
    "    es.indices.refresh(index=\"articles\")\n",
    "    \n",
    "    print(f\"Indexation terminée ! {len(articles_df)} articles indexés.\")"
   ]
  },
  {
   "cell_type": "code",
   "execution_count": 27,
   "metadata": {},
   "outputs": [
    {
     "name": "stdout",
     "output_type": "stream",
     "text": [
      "Indexation des articles...\n",
      "Indexation terminée ! 20 articles indexés.\n"
     ]
    }
   ],
   "source": [
    "setup_elasticsearch_index(articles_df)"
   ]
  },
  {
   "cell_type": "markdown",
   "metadata": {},
   "source": [
    "Dans le Query DSL d'Elasticsearch, les clauses must et should sont utilisées dans les requêtes booléennes (bool)\n",
    "\n",
    "- Must: La condition spécifiée dans must doit être satisfaite pour que le document soit retourné dans les résultats de recherche. Les documents qui ne remplissent pas cette condition seront exclus des résultats.\n",
    "- Should: Les conditions dans should sont facultatives, mais elles favorisent un document si elles sont remplies. Si un document ne remplit aucune des conditions should, il peut quand même être retourné si la condition must est remplie.\n",
    "\n",
    "On peux aussi utiliser les deux clauses dans une même requête, ce qui permet de combiner des conditions obligatoires (must) et des conditions facultatives (should). Ce type de requête est très utilisé pour effectuer des recherches plus complexes, où certaines conditions sont essentielles (via must), tandis que d'autres conditions sont facultatives mais améliorent le classement des résultats (via should)."
   ]
  },
  {
   "cell_type": "code",
   "execution_count": 30,
   "metadata": {},
   "outputs": [],
   "source": [
    "# 3. REQUÊTES COMPOSÉES (BOOL QUERY)\n",
    "# ==================================\n",
    "\n",
    "def bool_query_example():\n",
    "    \"\"\"Exemple de requête booléenne composée\"\"\"\n",
    "    query = {\n",
    "        \"query\": {\n",
    "            \"bool\": {\n",
    "                \"must\": [\n",
    "                    {\"match\": {\"content\": \"elasticsearch\"}}\n",
    "                ],\n",
    "                \"should\": [\n",
    "                    {\"match\": {\"tags\": \"python\"}},\n",
    "                    {\"match\": {\"tags\": \"tutorial\"}}\n",
    "                ],\n",
    "                \"must_not\": [\n",
    "                    {\"match\": {\"status\": \"archived\"}}\n",
    "                ]\n",
    "            }\n",
    "        }\n",
    "    }\n",
    "    \n",
    "    results = es.search(index=\"articles\", body=query)\n",
    "    \n",
    "    print(f\"Résultats de la requête booléenne composée (Bool Query):\")\n",
    "    print(f\"Nombre de résultats: {results['hits']['total']['value']}\")\n",
    "    \n",
    "    for hit in results['hits']['hits']:\n",
    "        source = hit['_source']\n",
    "        print(f\"\\nID: {source['id']}\")\n",
    "        print(f\"Titre: {source['title']}\")\n",
    "        print(f\"Contenu: {source['content'][:50]}...\")\n",
    "        print(f\"Tags: {', '.join(source['tags'])}\")\n",
    "        print(f\"Statut: {source['status']}\")\n",
    "        print(f\"Note: {source['rating']}\")\n",
    "    \n",
    "    return results"
   ]
  },
  {
   "cell_type": "code",
   "execution_count": 31,
   "metadata": {},
   "outputs": [
    {
     "name": "stdout",
     "output_type": "stream",
     "text": [
      "\n",
      "--- REQUÊTES COMPOSÉES (BOOL QUERY) ---\n",
      "Résultats de la requête booléenne composée (Bool Query):\n",
      "Nombre de résultats: 1\n",
      "\n",
      "ID: 10\n",
      "Titre: Guide Elasticsearch pour débutants\n",
      "Contenu: Cet article explique les bases de Elasticsearch. V...\n",
      "Tags: database, analytics, search\n",
      "Statut: published\n",
      "Note: 4.2\n"
     ]
    }
   ],
   "source": [
    "print(\"\\n--- REQUÊTES COMPOSÉES (BOOL QUERY) ---\")\n",
    "bool_results = bool_query_example()"
   ]
  },
  {
   "cell_type": "code",
   "execution_count": 32,
   "metadata": {},
   "outputs": [],
   "source": [
    "# 4. FILTRES\n",
    "# ==========\n",
    "\n",
    "def filter_examples():\n",
    "    \"\"\"Exemples de filtres\"\"\"\n",
    "    \n",
    "    # Exemple 1: Filtre par plage de dates\n",
    "    date_filter = {\n",
    "        \"query\": {\n",
    "            \"bool\": {\n",
    "                \"filter\": [\n",
    "                    {\"range\": {\"date\": {\"gte\": \"2022-01-01\", \"lte\": \"2024-12-31\"}}}\n",
    "                ]\n",
    "            }\n",
    "        }\n",
    "    }\n",
    "    \n",
    "    # Exemple 2: Filtres multiples combinés\n",
    "    multi_filter = {\n",
    "        \"query\": {\n",
    "            \"bool\": {\n",
    "                \"filter\": [\n",
    "                    {\"term\": {\"status\": \"published\"}},\n",
    "                    {\"range\": {\"rating\": {\"gte\": 4.0}}},\n",
    "                    {\"range\": {\"views\": {\"gte\": 500}}}\n",
    "                ]\n",
    "            }\n",
    "        }\n",
    "    }\n",
    "    \n",
    "    # Exemple 3: Filtre avec recherche plein texte\n",
    "    text_with_filter = {\n",
    "        \"query\": {\n",
    "            \"bool\": {\n",
    "                \"must\": {\n",
    "                    \"match\": {\"content\": \"python elasticsearch\"}\n",
    "                },\n",
    "                \"filter\": [\n",
    "                    {\"terms\": {\"tags\": [\"database\", \"search\"]}}\n",
    "                ]\n",
    "            }\n",
    "        }\n",
    "    }\n",
    "    \n",
    "    # Exécution des requêtes\n",
    "    date_results = es.search(index=\"articles\", body=date_filter)\n",
    "    multi_results = es.search(index=\"articles\", body=multi_filter)\n",
    "    text_filter_results = es.search(index=\"articles\", body=text_with_filter)\n",
    "    \n",
    "    # Afficher les résultats\n",
    "    print(\"\\n1. Filtre par plage de dates (articles de 2022 à 2024):\")\n",
    "    print(f\"Nombre de résultats: {date_results['hits']['total']['value']}\")\n",
    "    \n",
    "    print(\"\\n2. Filtres multiples (articles publiés, avec note ≥ 4.0 et vues ≥ 500):\")\n",
    "    print(f\"Nombre de résultats: {multi_results['hits']['total']['value']}\")\n",
    "    \n",
    "    print(\"\\n3. Filtre avec recherche plein texte (python elasticsearch + tags database/search):\")\n",
    "    print(f\"Nombre de résultats: {text_filter_results['hits']['total']['value']}\")\n",
    "    \n",
    "    # Afficher les détails du premier résultat de chaque requête\n",
    "    if date_results['hits']['hits']:\n",
    "        source = date_results['hits']['hits'][0]['_source']\n",
    "        print(f\"\\nPremier résultat du filtre par date:\")\n",
    "        print(f\"Titre: {source['title']}\")\n",
    "        print(f\"Date: {source['date']}\")\n",
    "    \n",
    "    if multi_results['hits']['hits']:\n",
    "        source = multi_results['hits']['hits'][0]['_source']\n",
    "        print(f\"\\nPremier résultat des filtres multiples:\")\n",
    "        print(f\"Titre: {source['title']}\")\n",
    "        print(f\"Statut: {source['status']}\")\n",
    "        print(f\"Note: {source['rating']}\")\n",
    "        print(f\"Vues: {source['views']}\")\n",
    "    \n",
    "    return {\n",
    "        \"date_filter\": date_results,\n",
    "        \"multi_filter\": multi_results,\n",
    "        \"text_with_filter\": text_filter_results\n",
    "    }"
   ]
  },
  {
   "cell_type": "code",
   "execution_count": 34,
   "metadata": {},
   "outputs": [
    {
     "name": "stdout",
     "output_type": "stream",
     "text": [
      "\n",
      "--- FILTRES ---\n",
      "\n",
      "1. Filtre par plage de dates (articles de 2022 à 2024):\n",
      "Nombre de résultats: 12\n",
      "\n",
      "2. Filtres multiples (articles publiés, avec note ≥ 4.0 et vues ≥ 500):\n",
      "Nombre de résultats: 1\n",
      "\n",
      "3. Filtre avec recherche plein texte (python elasticsearch + tags database/search):\n",
      "Nombre de résultats: 4\n",
      "\n",
      "Premier résultat du filtre par date:\n",
      "Titre: Guide Data Science pour débutants\n",
      "Date: 2023-05-20\n",
      "\n",
      "Premier résultat des filtres multiples:\n",
      "Titre: Guide Elasticsearch pour débutants\n",
      "Statut: published\n",
      "Note: 4.2\n",
      "Vues: 693\n"
     ]
    }
   ],
   "source": [
    "print(\"\\n--- FILTRES ---\")\n",
    "filter_results = filter_examples()"
   ]
  },
  {
   "cell_type": "code",
   "execution_count": null,
   "metadata": {},
   "outputs": [],
   "source": []
  }
 ],
 "metadata": {
  "kernelspec": {
   "display_name": "tp",
   "language": "python",
   "name": "python3"
  },
  "language_info": {
   "codemirror_mode": {
    "name": "ipython",
    "version": 3
   },
   "file_extension": ".py",
   "mimetype": "text/x-python",
   "name": "python",
   "nbconvert_exporter": "python",
   "pygments_lexer": "ipython3",
   "version": "3.11.5"
  }
 },
 "nbformat": 4,
 "nbformat_minor": 2
}
